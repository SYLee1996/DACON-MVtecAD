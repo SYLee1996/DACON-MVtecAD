{
 "cells": [
  {
   "cell_type": "markdown",
   "id": "6cff8184",
   "metadata": {},
   "source": [
    "# TRAIN & TEST\n",
    "#### EfficientNet-b7 (Public LB: 0.89066, LR: 2e-4)"
   ]
  },
  {
   "cell_type": "code",
   "execution_count": null,
   "id": "fb4912de",
   "metadata": {},
   "outputs": [],
   "source": [
    "!python3 ANOMALY_DETECTION_MAIN.py \\\n",
    "--model 'efficientnet_b7' \\\n",
    "--batch_size 32 \\\n",
    "--pretrain True \\\n",
    "--epochs 200 \\\n",
    "\\\n",
    "\\\n",
    "--optimizer 'AdamW' \\\n",
    "--lr 2e-4 \\\n",
    "--lr_t 15 \\\n",
    "--lr_scheduler 'CosineAnnealingWarmUpRestarts' \\\n",
    "--gamma 0.524 \\\n",
    "--loss_function 'CE_with_Lb' \\\n",
    "--patience 10 \\\n",
    "--weight_decay 0.002157 \\\n",
    "--label_smoothing 0.8283 \\\n",
    "\\\n",
    "\\\n",
    "--text 'A'"
   ]
  },
  {
   "cell_type": "code",
   "execution_count": null,
   "id": "46716be7",
   "metadata": {},
   "outputs": [],
   "source": [
    "!python3 ANOMALY_DETECTION_INFERENCE.py \\\n",
    "--model_save_name \\\n",
    "'A_220510_0142(efficientnet_b7_32_True__AdamW_0.0002_15_CosineAnnealingWarmUpRestarts_0.524_CE_with_Lb_10_0.002157_0.8283)_fold_' \\\n",
    "--model 'efficientnet_b7' \\\n",
    "--batch_size 32 \\\n",
    "--pretrain True \\\n",
    "--tta True \\\n",
    "--save_name 'A_220510_0142_fold_'"
   ]
  },
  {
   "cell_type": "markdown",
   "id": "121d099f",
   "metadata": {},
   "source": [
    "#### EfficientNet-b7 (Public LB: 0.88658, LR: 1.5e-4)"
   ]
  },
  {
   "cell_type": "code",
   "execution_count": null,
   "id": "08c01eb6",
   "metadata": {},
   "outputs": [],
   "source": [
    "!python3 ANOMALY_DETECTION_MAIN.py \\\n",
    "--model 'efficientnet_b7' \\\n",
    "--batch_size 32 \\\n",
    "--pretrain True \\\n",
    "--epochs 200 \\\n",
    "\\\n",
    "\\\n",
    "--optimizer 'AdamW' \\\n",
    "--lr 1.5e-4 \\\n",
    "--lr_t 15 \\\n",
    "--lr_scheduler 'CosineAnnealingWarmUpRestarts' \\\n",
    "--gamma 0.524 \\\n",
    "--loss_function 'CE_with_Lb' \\\n",
    "--patience 10 \\\n",
    "--weight_decay 0.002157 \\\n",
    "--label_smoothing 0.8283 \\\n",
    "\\\n",
    "\\\n",
    "--text 'A'"
   ]
  },
  {
   "cell_type": "code",
   "execution_count": null,
   "id": "94fef731",
   "metadata": {},
   "outputs": [],
   "source": [
    "!python3 ANOMALY_DETECTION_INFERENCE_MULTI.py \\\n",
    "--model_save_name \\\n",
    "'A_220511_2011(efficientnet_b7_32_True__AdamW_0.00015_15_CosineAnnealingWarmUpRestarts_0.524_CE_with_Lb_10_0.002157_0.8283)_fold_' \\\n",
    "--model 'efficientnet_b7' \\\n",
    "--batch_size 32 \\\n",
    "--pretrain True \\\n",
    "--tta True \\\n",
    "--save_name 'A_220511_2011_fold_'"
   ]
  },
  {
   "cell_type": "markdown",
   "id": "fbd66506",
   "metadata": {},
   "source": [
    "# TEST(blending)"
   ]
  },
  {
   "cell_type": "code",
   "execution_count": null,
   "id": "57904c90",
   "metadata": {},
   "outputs": [],
   "source": [
    "!python3 ANOMALY_DETECTION_INFERENCE.py \\\n",
    "--model_save_name \\\n",
    "'A_220510_0142(efficientnet_b7_32_True__AdamW_0.0002_15_CosineAnnealingWarmUpRestarts_0.524_CE_with_Lb_10_0.002157_0.8283)_fold_' \\\n",
    "'A_220511_2011(efficientnet_b7_32_True__AdamW_0.00015_15_CosineAnnealingWarmUpRestarts_0.524_CE_with_Lb_10_0.002157_0.8283)_fold_' \\\n",
    "--model 'efficientnet_b7' \\\n",
    "--batch_size 32 \\\n",
    "--pretrain True \\\n",
    "--tta True \\\n",
    "--save_name 'b7(2e-4+1.5e-4)_blending'"
   ]
  }
 ],
 "metadata": {
  "interpreter": {
   "hash": "61a57a4b5406d2de388e2f91097d4e4bcd7d5f4a46f53a795aa28a02eed27fc5"
  },
  "kernelspec": {
   "display_name": "moonjong",
   "language": "python",
   "name": "python3"
  },
  "language_info": {
   "codemirror_mode": {
    "name": "ipython",
    "version": 3
   },
   "file_extension": ".py",
   "mimetype": "text/x-python",
   "name": "python",
   "nbconvert_exporter": "python",
   "pygments_lexer": "ipython3",
   "version": "3.9.7"
  }
 },
 "nbformat": 4,
 "nbformat_minor": 5
}
